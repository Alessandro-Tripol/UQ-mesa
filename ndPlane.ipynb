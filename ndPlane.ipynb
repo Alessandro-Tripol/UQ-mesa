{
 "cells": [
  {
   "cell_type": "code",
   "execution_count": 1,
   "metadata": {
    "collapsed": true
   },
   "outputs": [],
   "source": [
    "import numpy as np\n",
    "from scipy.optimize import curve_fit, leastsq"
   ]
  },
  {
   "cell_type": "code",
   "execution_count": 65,
   "metadata": {
    "collapsed": true
   },
   "outputs": [],
   "source": [
    "class ndfit(object):\n",
    "    def __init__(self, ivals, dvals, dm):\n",
    "        self.ivals = ivals\n",
    "        self.dvals = dvals\n",
    "        self.dm = dm\n",
    "        self.npars = self.dm+1\n",
    "        self.npts = len(self.dvals)\n",
    "    \n",
    "    def fplane(self, x, *cpars):\n",
    "        cpars = np.array(cpars)\n",
    "        xp = np.zeros(self.npars)\n",
    "        xp[1:self.npars] = x[0:self.dm]\n",
    "        xp[0] = 1.0\n",
    "        return np.sum(xp * cpars)\n",
    "\n",
    "    def objfun(self, pars):\n",
    "        fvals = np.array([dv - self.fplane(iv,pars) for dv, iv in zip(self.dvals, self.ivals)])\n",
    "        return fvals\n",
    "\n",
    "    def dolsq(self):\n",
    "        xini = np.zeros(self.npars)\n",
    "        xini[0] = np.average(self.dvals)\n",
    "        # Find independent values at average of dependent var\n",
    "        iave = np.abs(self.dvals-xini[0]).argmin()\n",
    "        iv_ave = self.ivals[iave]\n",
    "        ivt = np.transpose(self.ivals)\n",
    "        for i in np.arange(1, self.npars):\n",
    "            ivti = ivt[i-1]\n",
    "            # Find maximum value along independent axis\n",
    "            iv_max_i = ivti.argmax()\n",
    "            iv_max = ivti[iv_max_i]\n",
    "            # Find corresponding dependent variable value\n",
    "            dv_max = self.dvals[iv_max_i]\n",
    "            # Find minimum value along independent axis\n",
    "            iv_min_i = ivti.argmin()\n",
    "            iv_min = ivti[iv_min_i]\n",
    "            # Find corresponding dependent variable value\n",
    "            dv_min = self.dvals[iv_min_i]\n",
    "            # Estimate slope\n",
    "            xini[i] = (dv_max - dv_min)/(iv_max - iv_min)/self.dm\n",
    "        print(xini)\n",
    "        popt, pcov, idict, mesg, ierr = leastsq(self.objfun, xini, full_output=True, xtol=1.e-20, ftol=1.e-16)\n",
    "        print(popt)\n",
    "        print(pcov)\n",
    "        for k in idict.keys():\n",
    "            print('{}: {}'.format(k, idict[k]))\n",
    "        print(mesg)\n",
    "        print(ierr)"
   ]
  },
  {
   "cell_type": "code",
   "execution_count": 80,
   "metadata": {
    "collapsed": false
   },
   "outputs": [
    {
     "name": "stdout",
     "output_type": "stream",
     "text": [
      "[  0.           0.20408163   0.40816327   0.6122449    0.81632653\n",
      "   1.02040816   1.2244898    1.42857143   1.63265306   1.83673469\n",
      "   2.04081633   2.24489796   2.44897959   2.65306122   2.85714286\n",
      "   3.06122449   3.26530612   3.46938776   3.67346939   3.87755102\n",
      "   4.08163265   4.28571429   4.48979592   4.69387755   4.89795918\n",
      "   5.10204082   5.30612245   5.51020408   5.71428571   5.91836735\n",
      "   6.12244898   6.32653061   6.53061224   6.73469388   6.93877551\n",
      "   7.14285714   7.34693878   7.55102041   7.75510204   7.95918367\n",
      "   8.16326531   8.36734694   8.57142857   8.7755102    8.97959184\n",
      "   9.18367347   9.3877551    9.59183673   9.79591837  10.        ]\n"
     ]
    }
   ],
   "source": [
    "# 3-D\n",
    "xvec = np.linspace(0, 10)\n",
    "yvec = np.linspace(0, 10)\n",
    "zvec = np.linspace(0, 10)\n",
    "print(xvec)\n",
    "xx, yy, zz = np.meshgrid(xvec, yvec, zvec)\n",
    "xflat = xx.flatten()\n",
    "yflat = yy.flatten()\n",
    "zflat = zz.flatten()\n",
    "ivars = np.transpose(np.array([xflat, yflat, zflat]))\n",
    "dvars = 5 + 2*xx + 3*yy + 4*zz\n",
    "dvflat = dvars.flatten()"
   ]
  },
  {
   "cell_type": "code",
   "execution_count": 81,
   "metadata": {
    "collapsed": false
   },
   "outputs": [],
   "source": [
    "fitter = ndfit(ivars, dvflat, 3)"
   ]
  },
  {
   "cell_type": "code",
   "execution_count": 82,
   "metadata": {
    "collapsed": false
   },
   "outputs": [
    {
     "name": "stdout",
     "output_type": "stream",
     "text": [
      "[ 50.           0.66666667   1.           1.33333333]\n",
      "[ 5.  2.  3.  4.]\n",
      "[[  7.71764707e-05  -4.61176471e-06  -4.61176470e-06  -4.61176472e-06]\n",
      " [ -4.61176471e-06   9.22352942e-07   1.18711211e-16  -2.13900383e-16]\n",
      " [ -4.61176470e-06   1.18711112e-16   9.22352941e-07  -3.33116353e-16]\n",
      " [ -4.61176472e-06  -2.13900065e-16  -3.33116274e-16   9.22352943e-07]]\n",
      "qtf: [ 0.  0.  0.  0.]\n",
      "nfev: 15\n",
      "fjac: [[ -2.05162952e+03   0.00000000e+00   0.00000000e+00 ...,  -4.87417437e-03\n",
      "   -4.87417437e-03  -4.87417437e-03]\n",
      " [ -1.52317949e+03  -1.37444822e+03   0.00000000e+00 ...,  -1.87403027e-03\n",
      "   -1.87403027e-03  -1.87403027e-03]\n",
      " [ -1.52317949e+03  -5.85634460e+02   1.24343886e+03 ...,   8.60902813e-04\n",
      "    1.02502953e-03   1.18915644e-03]\n",
      " [ -3.04635898e+02  -1.17126892e+02   7.43030538e+01 ...,  -6.69775579e-03\n",
      "   -6.80629629e-03  -6.91483691e-03]]\n",
      "fvec: [ 0.  0.  0. ...,  0.  0.  0.]\n",
      "ipvt: [3 2 4 1]\n",
      "The cosine of the angle between func(x) and any column of the\n",
      "  Jacobian is at most 0.000000 in absolute value\n",
      "4\n"
     ]
    }
   ],
   "source": [
    "fitter.dolsq()"
   ]
  },
  {
   "cell_type": "code",
   "execution_count": null,
   "metadata": {
    "collapsed": true
   },
   "outputs": [],
   "source": []
  },
  {
   "cell_type": "code",
   "execution_count": null,
   "metadata": {
    "collapsed": true
   },
   "outputs": [],
   "source": []
  }
 ],
 "metadata": {
  "anaconda-cloud": {},
  "kernelspec": {
   "display_name": "Python [default]",
   "language": "python",
   "name": "python3"
  },
  "language_info": {
   "codemirror_mode": {
    "name": "ipython",
    "version": 3
   },
   "file_extension": ".py",
   "mimetype": "text/x-python",
   "name": "python",
   "nbconvert_exporter": "python",
   "pygments_lexer": "ipython3",
   "version": "3.5.2"
  }
 },
 "nbformat": 4,
 "nbformat_minor": 1
}
