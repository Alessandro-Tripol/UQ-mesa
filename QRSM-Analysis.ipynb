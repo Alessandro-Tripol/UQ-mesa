{
 "cells": [
  {
   "cell_type": "markdown",
   "metadata": {},
   "source": [
    "# QRSM Analysis"
   ]
  },
  {
   "cell_type": "code",
   "execution_count": 1,
   "metadata": {
    "collapsed": false
   },
   "outputs": [],
   "source": [
    "%matplotlib inline\n",
    "import numpy as np\n",
    "import matplotlib.pyplot as plt\n",
    "import QuadraticAnalysisToolkit as QAT"
   ]
  },
  {
   "cell_type": "markdown",
   "metadata": {},
   "source": [
    "## Set up grid and sampling info"
   ]
  },
  {
   "cell_type": "code",
   "execution_count": 2,
   "metadata": {
    "collapsed": true
   },
   "outputs": [],
   "source": [
    "lo = [0.01, 0.3]\n",
    "hi = [0.1, 0.9]\n",
    "csvfile = 'output2.csv'\n",
    "csvdelimiter = ','\n",
    "skipheader = 1"
   ]
  },
  {
   "cell_type": "markdown",
   "metadata": {},
   "source": [
    "## Open CSV file with samples"
   ]
  },
  {
   "cell_type": "code",
   "execution_count": 3,
   "metadata": {
    "collapsed": false
   },
   "outputs": [],
   "source": [
    "# Open the csv file in a Grid object\n",
    "fullgrid = QAT.Grid()\n",
    "fullgrid.initFromCSV(csvfile, delimiter=csvdelimiter, skip_header=skipheader)"
   ]
  },
  {
   "cell_type": "markdown",
   "metadata": {},
   "source": [
    "## Do QRSM Analysis"
   ]
  },
  {
   "cell_type": "markdown",
   "metadata": {},
   "source": [
    "This carries out a QRSM analysis as well as a uniformly spaced mesh evaluation of the quadratic fit to compare against the extrema reported by the QRSM algorithm. Using `nmesh=1000` means the regularly spaced mesh will consist of `1000` values along each dimension, so the size of the mesh is `1000^N` points for `N` dimensions."
   ]
  },
  {
   "cell_type": "code",
   "execution_count": 4,
   "metadata": {
    "collapsed": false
   },
   "outputs": [
    {
     "name": "stderr",
     "output_type": "stream",
     "text": [
      "/home/dwillcox/codes/StarSTRUQ/UQ-mesa/QuadraticAnalysisToolkit.py:348: RuntimeWarning: divide by zero encountered in true_divide\n",
      "  f += hp**2 / (4. * (mup + x)**2)\n",
      "/home/dwillcox/codes/StarSTRUQ/UQ-mesa/QuadraticAnalysisToolkit.py:348: RuntimeWarning: divide by zero encountered in double_scalars\n",
      "  f += hp**2 / (4. * (mup + x)**2)\n"
     ]
    }
   ],
   "source": [
    "quada = QAT.QuadraticAnalysis(fullgrid, lo, hi, nmesh=1000)"
   ]
  },
  {
   "cell_type": "code",
   "execution_count": 5,
   "metadata": {
    "collapsed": false
   },
   "outputs": [
    {
     "name": "stdout",
     "output_type": "stream",
     "text": [
      "Inner Bounds: [0.4948010257000814, 0.5668330738454507]\n",
      "Inner Bounds: [0.4948205046289135, 0.5668300608406416] (Mesh)\n",
      "Outer Bounds: [0.4659058600753612, 0.5841717450143347]\n",
      "Outer Bounds: [0.4661101617577449, 0.5841614464449248] (Mesh)\n"
     ]
    }
   ],
   "source": [
    "print('Inner Bounds: [{}, {}]'.format(quada.eopt.inner_min, quada.eopt.inner_max))\n",
    "print('Inner Bounds: [{}, {}] (Mesh)'.format(quada.eopt.mesh_inner_min, quada.eopt.mesh_inner_max))\n",
    "print('Outer Bounds: [{}, {}]'.format(quada.eopt.outer_min, quada.eopt.outer_max))\n",
    "print('Outer Bounds: [{}, {}] (Mesh)'.format(quada.eopt.mesh_outer_min, quada.eopt.mesh_outer_max))"
   ]
  },
  {
   "cell_type": "markdown",
   "metadata": {},
   "source": [
    "## Plot Results"
   ]
  },
  {
   "cell_type": "code",
   "execution_count": 6,
   "metadata": {
    "collapsed": false
   },
   "outputs": [],
   "source": [
    "data = []\n",
    "data.append(dict(label='QRSM (Inner, Optimum)', xlo=quada.eopt.inner_min, xhi=quada.eopt.inner_max, color='m'))\n",
    "data.append(dict(label='QRSM (Inner, $10^6$ pt.)', xlo=quada.eopt.mesh_inner_min, xhi=quada.eopt.mesh_inner_max, color='m', linestyle=':'))\n",
    "data.append(dict(label='QRSM (Outer, Optimum)', xlo=quada.eopt.outer_min, xhi=quada.eopt.outer_max, color='m'))\n",
    "data.append(dict(label='QRSM (Outer, $10^6$ pt.)', xlo=quada.eopt.mesh_outer_min, xhi=quada.eopt.mesh_outer_max, color='m', linestyle=':'))"
   ]
  },
  {
   "cell_type": "code",
   "execution_count": 7,
   "metadata": {
    "collapsed": false
   },
   "outputs": [
    {
     "data": {
      "image/png": "[encoded data removed]",
      "text/plain": [
       "<matplotlib.figure.Figure at 0x7f17bb696198>"
      ]
     },
     "metadata": {},
     "output_type": "display_data"
    }
   ],
   "source": [
    "def plot_interval(ypos, xlo, xhi, color='b', linestyle='-', lw=2, label=None):\n",
    "    plt.hlines(ypos, xlo, xhi, color, linestyle=linestyle, lw=lw)\n",
    "    \n",
    "def get_data_extrema(ddict):\n",
    "    xlos = []\n",
    "    xhis = []\n",
    "    for di in ddict:\n",
    "        xlos.append(di['xlo'])\n",
    "        xhis.append(di['xhi'])\n",
    "    xlo = np.amin(xlos)\n",
    "    xhi = np.amax(xhis)\n",
    "    return xlo, xhi\n",
    "\n",
    "nlabels = len(data)\n",
    "\n",
    "for i, d in enumerate(data):\n",
    "    d['ypos'] = float(i+1)/float(nlabels+1)\n",
    "    plot_interval(**d)\n",
    "\n",
    "ax = plt.gca()\n",
    "\n",
    "dlo, dhi = get_data_extrema(data)\n",
    "eps = 0.01*(dhi-dlo)\n",
    "\n",
    "ypos = [d['ypos'] for d in data]\n",
    "labs = [d['label'] for d in data]\n",
    "\n",
    "plt.yticks(ypos, labs)\n",
    "plt.ylim(0,1)\n",
    "\n",
    "xticks_major = np.arange(0.45, 0.70, 0.05)\n",
    "xticks_minor = np.arange(0.45, 0.70, 0.01)\n",
    "\n",
    "# Large major labels\n",
    "ax.tick_params(axis = 'both', which = 'major', labelsize = 6)\n",
    "\n",
    "# No minor labels\n",
    "ax.tick_params(axis = 'both', which = 'minor', labelsize = 0)\n",
    "\n",
    "# Set Major and Minor xticks\n",
    "ax.set_xticks(xticks_major)\n",
    "ax.set_xticks(xticks_minor, minor = True)\n",
    "\n",
    "# Direct ticks outside\n",
    "ax.tick_params(which = 'both', direction = 'out')\n",
    "\n",
    "# Reset x limit\n",
    "plt.xlim(0.45-eps, 0.62+eps)\n",
    "\n",
    "# Draw x axis grids\n",
    "ax.xaxis.grid(True)\n",
    "\n",
    "plt.xlabel('$M_{WD}~(M_{\\odot})$')\n",
    "plt.show()"
   ]
  },
  {
   "cell_type": "code",
   "execution_count": null,
   "metadata": {
    "collapsed": true
   },
   "outputs": [],
   "source": []
  },
  {
   "cell_type": "code",
   "execution_count": null,
   "metadata": {
    "collapsed": true
   },
   "outputs": [],
   "source": []
  }
 ],
 "metadata": {
  "anaconda-cloud": {},
  "kernelspec": {
   "display_name": "Python [default]",
   "language": "python",
   "name": "python3"
  },
  "language_info": {
   "codemirror_mode": {
    "name": "ipython",
    "version": 3
   },
   "file_extension": ".py",
   "mimetype": "text/x-python",
   "name": "python",
   "nbconvert_exporter": "python",
   "pygments_lexer": "ipython3",
   "version": "3.5.2"
  }
 },
 "nbformat": 4,
 "nbformat_minor": 1
}
