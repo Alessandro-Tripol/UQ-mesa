{
 "cells": [
  {
   "cell_type": "markdown",
   "metadata": {},
   "source": [
    "Plot the various uncertainty intervals for the MESA UQ paper compared in a bar chart"
   ]
  },
  {
   "cell_type": "code",
   "execution_count": 36,
   "metadata": {
    "collapsed": true
   },
   "outputs": [],
   "source": [
    "%matplotlib inline\n",
    "import numpy as np\n",
    "import matplotlib.pyplot as plt"
   ]
  },
  {
   "cell_type": "code",
   "execution_count": 43,
   "metadata": {
    "collapsed": true
   },
   "outputs": [],
   "source": [
    "data = []\n",
    "data.append(dict(label='QRSM (Inner, Optimum, 0.25)', xlo=0.4979, xhi=0.5606, color='k'))\n",
    "data.append(dict(label='QRSM (Outer, Optimum, 0.25)', xlo=0.4696, xhi=0.5698, color='k'))\n",
    "data.append(dict(label='QRSM (Inner, Optimum, 0.50)', xlo=0.4979, xhi=0.5606, color='m'))\n",
    "data.append(dict(label='QRSM (Inner, $10^3$ pt., 0.50)', xlo=0.4978, xhi=0.5607, color='m', linestyle=':'))\n",
    "data.append(dict(label='QRSM (Outer, Optimum, 0.50)', xlo=0.4811, xhi=0.6119, color='m'))\n",
    "data.append(dict(label='QRSM (Outer, $10^3$ pt., 0.50)', xlo=0.4976, xhi=0.5655, color='m', linestyle=':'))\n",
    "data.append(dict(label='CD (0.25) $1\\sigma$', xlo=0.4923, xhi=0.5847, color='g'))\n",
    "data.append(dict(label='CD (0.25) $2\\sigma$', xlo=0.4879, xhi=0.5891, color='g'))\n",
    "data.append(dict(label='CD (0.25) $3\\sigma$', xlo=0.4834, xhi=0.5936, color='g'))\n",
    "data.append(dict(label='CD (1.50) $1\\sigma$', xlo=0.4776, xhi=0.6014, color='b'))\n",
    "data.append(dict(label='CD (1.50) $2\\sigma$', xlo=0.4699, xhi=0.6091, color='b'))\n",
    "data.append(dict(label='CD (1.50) $3\\sigma$', xlo=0.4622, xhi=0.6168, color='b'))\n",
    "data.append(dict(label='Linear Regression', xlo=0.5028, xhi=0.5678, color='r'))"
   ]
  },
  {
   "cell_type": "code",
   "execution_count": 45,
   "metadata": {
    "collapsed": false
   },
   "outputs": [
    {
     "data": {
      "image/png": "[encoded data removed]",
      "text/plain": [
       "<matplotlib.figure.Figure at 0x7f99d75215f8>"
      ]
     },
     "metadata": {},
     "output_type": "display_data"
    }
   ],
   "source": [
    "def plot_interval(ypos, xlo, xhi, color='b', linestyle='-', lw=2, label=None):\n",
    "    plt.hlines(ypos, xlo, xhi, color, linestyle=linestyle, lw=lw)\n",
    "    \n",
    "def get_data_extrema(ddict):\n",
    "    xlos = []\n",
    "    xhis = []\n",
    "    for di in ddict:\n",
    "        xlos.append(di['xlo'])\n",
    "        xhis.append(di['xhi'])\n",
    "    xlo = np.amin(xlos)\n",
    "    xhi = np.amax(xhis)\n",
    "    return xlo, xhi\n",
    "\n",
    "nlabels = len(data)\n",
    "\n",
    "for i, d in enumerate(data):\n",
    "    d['ypos'] = float(i+1)/float(nlabels+1)\n",
    "    plot_interval(**d)\n",
    "\n",
    "ax = plt.gca()\n",
    "\n",
    "lo, hi = get_data_extrema(data)\n",
    "eps = 0.01*(hi-lo)\n",
    "\n",
    "ypos = [d['ypos'] for d in data]\n",
    "labs = [d['label'] for d in data]\n",
    "\n",
    "plt.yticks(ypos, labs)\n",
    "plt.ylim(0,1)\n",
    "\n",
    "xticks_major = np.arange(0.45, 0.70, 0.05)\n",
    "xticks_minor = np.arange(0.45, 0.70, 0.01)\n",
    "\n",
    "# Large major labels\n",
    "ax.tick_params(axis = 'both', which = 'major', labelsize = 6)\n",
    "\n",
    "# No minor labels\n",
    "ax.tick_params(axis = 'both', which = 'minor', labelsize = 0)\n",
    "\n",
    "# Set Major and Minor xticks\n",
    "ax.set_xticks(xticks_major)\n",
    "ax.set_xticks(xticks_minor, minor = True)\n",
    "\n",
    "# Direct ticks outside\n",
    "ax.tick_params(which = 'both', direction = 'out')\n",
    "\n",
    "# Reset x limit\n",
    "plt.xlim(0.45-eps, 0.62+eps)\n",
    "\n",
    "# Draw x axis grids\n",
    "ax.xaxis.grid(True)\n",
    "\n",
    "plt.xlabel('$M_{WD}~(M_{\\odot})$')\n",
    "#plt.show()\n",
    "plt.tight_layout()\n",
    "plt.savefig('cfintervals.eps',format='eps')"
   ]
  },
  {
   "cell_type": "code",
   "execution_count": null,
   "metadata": {
    "collapsed": true
   },
   "outputs": [],
   "source": []
  }
 ],
 "metadata": {
  "anaconda-cloud": {},
  "kernelspec": {
   "display_name": "Python [default]",
   "language": "python",
   "name": "python3"
  },
  "language_info": {
   "codemirror_mode": {
    "name": "ipython",
    "version": 3
   },
   "file_extension": ".py",
   "mimetype": "text/x-python",
   "name": "python",
   "nbconvert_exporter": "python",
   "pygments_lexer": "ipython3",
   "version": "3.5.2"
  }
 },
 "nbformat": 4,
 "nbformat_minor": 1
}
