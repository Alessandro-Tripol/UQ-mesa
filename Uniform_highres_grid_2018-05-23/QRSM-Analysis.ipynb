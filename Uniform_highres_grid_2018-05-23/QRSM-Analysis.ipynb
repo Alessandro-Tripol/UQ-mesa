{
 "cells": [
  {
   "cell_type": "markdown",
   "metadata": {},
   "source": [
    "# QRSM Analysis"
   ]
  },
  {
   "cell_type": "code",
   "execution_count": 1,
   "metadata": {},
   "outputs": [],
   "source": [
    "%matplotlib inline\n",
    "import numpy as np\n",
    "import matplotlib.pyplot as plt\n",
    "import QuadraticAnalysisToolkit as QAT\n",
    "plt.rcParams['figure.figsize'] = (10, 6)"
   ]
  },
  {
   "cell_type": "markdown",
   "metadata": {},
   "source": [
    "## Set up grid and sampling info"
   ]
  },
  {
   "cell_type": "code",
   "execution_count": 2,
   "metadata": {},
   "outputs": [],
   "source": [
    "lo = [0.01, 0.3]\n",
    "hi = [0.1, 0.9]\n",
    "txtfile = 'grid_results_sorted.txt'\n",
    "txtdelimiter = ' '\n",
    "skipheader = 1"
   ]
  },
  {
   "cell_type": "markdown",
   "metadata": {},
   "source": [
    "## Open CSV file with samples"
   ]
  },
  {
   "cell_type": "code",
   "execution_count": 3,
   "metadata": {},
   "outputs": [],
   "source": [
    "# Open the csv file in a Grid object\n",
    "fullgrid = QAT.Grid()\n",
    "fullgrid.initFromTXT(txtfile, delimiter=txtdelimiter, skip_header=skipheader)"
   ]
  },
  {
   "cell_type": "markdown",
   "metadata": {},
   "source": [
    "## Do QRSM Analysis"
   ]
  },
  {
   "cell_type": "markdown",
   "metadata": {},
   "source": [
    "### Use Elliptical Optimization and check against a Uniformly Spaced Mesh"
   ]
  },
  {
   "cell_type": "markdown",
   "metadata": {},
   "source": [
    "This carries out a QRSM analysis as well as a uniformly spaced mesh evaluation of the quadratic fit to compare against the extrema reported by the QRSM algorithm. Using `nmesh=1000` means the regularly spaced mesh will consist of `1000` values along each dimension, so the size of the mesh is `1000^N` points for `N` dimensions."
   ]
  },
  {
   "cell_type": "code",
   "execution_count": 4,
   "metadata": {},
   "outputs": [
    {
     "name": "stderr",
     "output_type": "stream",
     "text": [
      "/home/eugene/codes/astro/StarSTRUQ/UQ-mesa/QuadraticAnalysisToolkit.py:518: RuntimeWarning: divide by zero encountered in double_scalars\n",
      "  f += hp**2 / (4. * (mup + x)**2)\n"
     ]
    }
   ],
   "source": [
    "quada = QAT.QuadraticAnalysis(fullgrid, lo, hi, nmesh=1000)"
   ]
  },
  {
   "cell_type": "markdown",
   "metadata": {},
   "source": [
    "Let's print out the quadratic fit coefficients with 1 standard deviation fit errors:"
   ]
  },
  {
   "cell_type": "code",
   "execution_count": 5,
   "metadata": {},
   "outputs": [
    {
     "name": "stdout",
     "output_type": "stream",
     "text": [
      "f(x) = (0.5341903322416409 +/- 0.004338652087132339) + \n",
      "       (-0.5764844977605628 +/- 0.06532898297483357) x[0] + \n",
      "       (0.17527405435525528 +/- 0.012620982257938297) x[1] + \n",
      "       (0.3455203734311024 +/- 0.058009606374026364) x[0] * x[1] + \n",
      "       (1.9682715326905906 +/- 0.4349894342744105) x[0]**2 + \n",
      "       (-0.2384115397357862 +/- 0.009852511309775078) x[1]**2\n",
      "\n",
      "Sum of squares of residuals: 0.0030886085673288493\n",
      "Coefficient of determination (R^2): 0.9572053897185547\n"
     ]
    }
   ],
   "source": [
    "print(quada.qfit)"
   ]
  },
  {
   "cell_type": "markdown",
   "metadata": {},
   "source": [
    "And now let's print the bounds of the elliptic optimization:"
   ]
  },
  {
   "cell_type": "code",
   "execution_count": 6,
   "metadata": {},
   "outputs": [
    {
     "name": "stdout",
     "output_type": "stream",
     "text": [
      "Inner Bounds: [0.4901432128468637, 0.5585477253606713]\n",
      "Inner Bounds: [0.4901914296940155, 0.5585440089924762] (Mesh)\n",
      "Outer Bounds: [0.4573072463133315, 0.5669154322721325]\n",
      "Outer Bounds: [0.4575522763833922, 0.5669089488329921] (Mesh)\n"
     ]
    }
   ],
   "source": [
    "print(quada.eopt)"
   ]
  },
  {
   "cell_type": "markdown",
   "metadata": {},
   "source": [
    "### Use Rectangular Optimization"
   ]
  },
  {
   "cell_type": "code",
   "execution_count": 7,
   "metadata": {},
   "outputs": [],
   "source": [
    "quada_rect = QAT.QuadraticAnalysis(fullgrid, lo, hi, method='rectangular')"
   ]
  },
  {
   "cell_type": "markdown",
   "metadata": {},
   "source": [
    "And now let's print the bounds of the rectangular optimization:"
   ]
  },
  {
   "cell_type": "code",
   "execution_count": 8,
   "metadata": {},
   "outputs": [
    {
     "name": "stdout",
     "output_type": "stream",
     "text": [
      "Rectangular Bounds: [0.48986922512751463, 0.5621191700357951]\n",
      "\n"
     ]
    }
   ],
   "source": [
    "print(quada_rect.ropt)"
   ]
  },
  {
   "cell_type": "markdown",
   "metadata": {},
   "source": [
    "## Plot Results"
   ]
  },
  {
   "cell_type": "code",
   "execution_count": 9,
   "metadata": {},
   "outputs": [],
   "source": [
    "data = []\n",
    "data.append(dict(label='QRSM (Inner, Optimum)', xlo=quada.eopt.inner_min, xhi=quada.eopt.inner_max, color='m'))\n",
    "data.append(dict(label='QRSM (Inner, $10^6$ pt.)', xlo=quada.eopt.mesh_inner_min, xhi=quada.eopt.mesh_inner_max, color='m', linestyle=':'))\n",
    "data.append(dict(label='QRSM (Outer, Optimum)', xlo=quada.eopt.outer_min, xhi=quada.eopt.outer_max, color='m'))\n",
    "data.append(dict(label='QRSM (Outer, $10^6$ pt.)', xlo=quada.eopt.mesh_outer_min, xhi=quada.eopt.mesh_outer_max, color='m', linestyle=':'))\n",
    "data.append(dict(label='Rectangular Optimization', xlo=quada_rect.ropt.min_function, xhi=quada_rect.ropt.max_function, color='g'))"
   ]
  },
  {
   "cell_type": "code",
   "execution_count": 10,
   "metadata": {},
   "outputs": [
    {
     "data": {
      "image/png": "[encoded data removed]",
      "text/plain": [
       "<matplotlib.figure.Figure at 0x7f75670ca978>"
      ]
     },
     "metadata": {},
     "output_type": "display_data"
    }
   ],
   "source": [
    "def plot_interval(ypos, xlo, xhi, color='b', linestyle='-', lw=2, label=None):\n",
    "    plt.hlines(ypos, xlo, xhi, color, linestyle=linestyle, lw=lw)\n",
    "    \n",
    "def get_data_extrema(ddict):\n",
    "    xlos = []\n",
    "    xhis = []\n",
    "    for di in ddict:\n",
    "        xlos.append(di['xlo'])\n",
    "        xhis.append(di['xhi'])\n",
    "    xlo = np.amin(xlos)\n",
    "    xhi = np.amax(xhis)\n",
    "    return xlo, xhi\n",
    "\n",
    "nlabels = len(data)\n",
    "\n",
    "for i, d in enumerate(data):\n",
    "    d['ypos'] = float(i+1)/float(nlabels+1)\n",
    "    plot_interval(**d)\n",
    "\n",
    "ax = plt.gca()\n",
    "\n",
    "dlo, dhi = get_data_extrema(data)\n",
    "eps = 0.01*(dhi-dlo)\n",
    "\n",
    "ypos = [d['ypos'] for d in data]\n",
    "labs = [d['label'] for d in data]\n",
    "\n",
    "plt.yticks(ypos, labs)\n",
    "plt.ylim(0,1)\n",
    "\n",
    "xticks_major = np.arange(0.45, 0.70, 0.05)\n",
    "xticks_minor = np.arange(0.45, 0.70, 0.01)\n",
    "\n",
    "# Large major labels\n",
    "ax.tick_params(axis = 'both', which = 'major', labelsize = 6)\n",
    "\n",
    "# No minor labels\n",
    "ax.tick_params(axis = 'both', which = 'minor', labelsize = 0)\n",
    "\n",
    "# Set Major and Minor xticks\n",
    "ax.set_xticks(xticks_major)\n",
    "ax.set_xticks(xticks_minor, minor = True)\n",
    "\n",
    "# Direct ticks outside\n",
    "ax.tick_params(which = 'both', direction = 'out')\n",
    "\n",
    "# Reset x limit\n",
    "plt.xlim(0.45-eps, 0.62+eps)\n",
    "\n",
    "# Draw x axis grids\n",
    "ax.xaxis.grid(True)\n",
    "\n",
    "plt.xlabel('$M_{WD}~(M_{\\odot})$')\n",
    "plt.savefig('cfintervals_with_rectangle.png', bbox_inches='tight', dpi=300)\n",
    "plt.show()"
   ]
  },
  {
   "cell_type": "code",
   "execution_count": null,
   "metadata": {
    "collapsed": true
   },
   "outputs": [],
   "source": []
  },
  {
   "cell_type": "code",
   "execution_count": null,
   "metadata": {
    "collapsed": true
   },
   "outputs": [],
   "source": []
  }
 ],
 "metadata": {
  "anaconda-cloud": {},
  "kernelspec": {
   "display_name": "Python 3",
   "language": "python",
   "name": "python3"
  },
  "language_info": {
   "codemirror_mode": {
    "name": "ipython",
    "version": 3
   },
   "file_extension": ".py",
   "mimetype": "text/x-python",
   "name": "python",
   "nbconvert_exporter": "python",
   "pygments_lexer": "ipython3",
   "version": "3.6.4"
  }
 },
 "nbformat": 4,
 "nbformat_minor": 1
}
